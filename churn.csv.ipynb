{
 "cells": [
  {
   "cell_type": "code",
   "execution_count": null,
   "id": "0525add6",
   "metadata": {},
   "outputs": [],
   "source": [
    "#We will be using the files_for_lab/customer_churn.csv dataset to build a churn predictor.\n",
    "\n",
    "##Instructions\n",
    "#Load the dataset and explore the variables.\n",
    "#We will try to predict variable Churn using a logistic regression on variables tenure, SeniorCitizen,MonthlyCharges.\n",
    "#Extract the target variable.\n",
    "#Extract the independent variables and scale them.\n",
    "#Build the logistic regression model.\n",
    "#Evaluate the model.\n",
    "#Even a simple model will give us more than 70% accuracy. Why?\n",
    "#Synthetic Minority Oversampling TEchnique (SMOTE) is an over sampling technique based on nearest neighbors that adds \n",
    "new points between existing points. Apply imblearn.over_sampling.SMOTE to the dataset.\n",
    "#Build and evaluate the logistic regression model. Is it there any improvement?\n",
    "#Tomek links are pairs of very close instances, but of opposite classes. \n",
    "#Removing the instances of the majority class of each pair increases the space between the two classes,\n",
    "facilitating the classification process. Apply imblearn.under_sampling.TomekLinks to the dataset. \n",
    "#Build and evaluate the logistic regression model. Is it there any improvement?"
   ]
  },
  {
   "cell_type": "code",
   "execution_count": 1,
   "id": "ff56846b",
   "metadata": {},
   "outputs": [],
   "source": [
    "import pandas as pd\n",
    "import numpy as np\n",
    "\n",
    "\n",
    "import seaborn as sns\n",
    "import matplotlib.pyplot as plt\n",
    "\n",
    "\n",
    "from sklearn.linear_model import LogisticRegression\n",
    "from sklearn.preprocessing import StandardScaler\n",
    "from sklearn.metrics import confusion_matrix\n",
    "from sklearn.model_selection import train_test_split\n",
    "\n",
    "import warnings\n",
    "warnings.filterwarnings('ignore')"
   ]
  },
  {
   "cell_type": "code",
   "execution_count": 2,
   "id": "d11134ca",
   "metadata": {},
   "outputs": [
    {
     "name": "stdout",
     "output_type": "stream",
     "text": [
      " Volume in drive C is Windows-SSD\n",
      " Volume Serial Number is DE01-064C\n",
      "\n",
      " Directory of C:\\Users\\samag\\ihck\n",
      "\n",
      "11/03/2022  21:28    <DIR>          .\n",
      "11/03/2022  21:28    <DIR>          ..\n",
      "11/03/2022  21:23    <DIR>          .ipynb_checkpoints\n",
      "11/03/2022  21:28            12,179 churn.csv.ipynb\n",
      "10/03/2022  20:09           977,501 customer_churn (1).csv\n",
      "28/02/2022  19:24            11,482 fifa.ipynb\n",
      "08/03/2022  18:46       506,210,293 IN_ALL_TracksData_20220307\n",
      "08/03/2022  19:44             2,693 Untitled1.ipynb\n",
      "               5 File(s)    507,214,148 bytes\n",
      "               3 Dir(s)  189,072,809,984 bytes free\n"
     ]
    }
   ],
   "source": [
    "ls"
   ]
  },
  {
   "cell_type": "code",
   "execution_count": 9,
   "id": "c3e341cf",
   "metadata": {},
   "outputs": [],
   "source": [
    "data = pd.read_csv('customer_churn (1).csv')"
   ]
  },
  {
   "cell_type": "code",
   "execution_count": 10,
   "id": "31458e2d",
   "metadata": {},
   "outputs": [
    {
     "data": {
      "text/html": [
       "<div>\n",
       "<style scoped>\n",
       "    .dataframe tbody tr th:only-of-type {\n",
       "        vertical-align: middle;\n",
       "    }\n",
       "\n",
       "    .dataframe tbody tr th {\n",
       "        vertical-align: top;\n",
       "    }\n",
       "\n",
       "    .dataframe thead th {\n",
       "        text-align: right;\n",
       "    }\n",
       "</style>\n",
       "<table border=\"1\" class=\"dataframe\">\n",
       "  <thead>\n",
       "    <tr style=\"text-align: right;\">\n",
       "      <th></th>\n",
       "      <th>customerID</th>\n",
       "      <th>gender</th>\n",
       "      <th>SeniorCitizen</th>\n",
       "      <th>Partner</th>\n",
       "      <th>Dependents</th>\n",
       "      <th>tenure</th>\n",
       "      <th>PhoneService</th>\n",
       "      <th>MultipleLines</th>\n",
       "      <th>InternetService</th>\n",
       "      <th>OnlineSecurity</th>\n",
       "      <th>...</th>\n",
       "      <th>DeviceProtection</th>\n",
       "      <th>TechSupport</th>\n",
       "      <th>StreamingTV</th>\n",
       "      <th>StreamingMovies</th>\n",
       "      <th>Contract</th>\n",
       "      <th>PaperlessBilling</th>\n",
       "      <th>PaymentMethod</th>\n",
       "      <th>MonthlyCharges</th>\n",
       "      <th>TotalCharges</th>\n",
       "      <th>Churn</th>\n",
       "    </tr>\n",
       "  </thead>\n",
       "  <tbody>\n",
       "    <tr>\n",
       "      <th>0</th>\n",
       "      <td>7590-VHVEG</td>\n",
       "      <td>Female</td>\n",
       "      <td>0</td>\n",
       "      <td>Yes</td>\n",
       "      <td>No</td>\n",
       "      <td>1</td>\n",
       "      <td>No</td>\n",
       "      <td>No phone service</td>\n",
       "      <td>DSL</td>\n",
       "      <td>No</td>\n",
       "      <td>...</td>\n",
       "      <td>No</td>\n",
       "      <td>No</td>\n",
       "      <td>No</td>\n",
       "      <td>No</td>\n",
       "      <td>Month-to-month</td>\n",
       "      <td>Yes</td>\n",
       "      <td>Electronic check</td>\n",
       "      <td>29.85</td>\n",
       "      <td>29.85</td>\n",
       "      <td>No</td>\n",
       "    </tr>\n",
       "    <tr>\n",
       "      <th>1</th>\n",
       "      <td>5575-GNVDE</td>\n",
       "      <td>Male</td>\n",
       "      <td>0</td>\n",
       "      <td>No</td>\n",
       "      <td>No</td>\n",
       "      <td>34</td>\n",
       "      <td>Yes</td>\n",
       "      <td>No</td>\n",
       "      <td>DSL</td>\n",
       "      <td>Yes</td>\n",
       "      <td>...</td>\n",
       "      <td>Yes</td>\n",
       "      <td>No</td>\n",
       "      <td>No</td>\n",
       "      <td>No</td>\n",
       "      <td>One year</td>\n",
       "      <td>No</td>\n",
       "      <td>Mailed check</td>\n",
       "      <td>56.95</td>\n",
       "      <td>1889.5</td>\n",
       "      <td>No</td>\n",
       "    </tr>\n",
       "    <tr>\n",
       "      <th>2</th>\n",
       "      <td>3668-QPYBK</td>\n",
       "      <td>Male</td>\n",
       "      <td>0</td>\n",
       "      <td>No</td>\n",
       "      <td>No</td>\n",
       "      <td>2</td>\n",
       "      <td>Yes</td>\n",
       "      <td>No</td>\n",
       "      <td>DSL</td>\n",
       "      <td>Yes</td>\n",
       "      <td>...</td>\n",
       "      <td>No</td>\n",
       "      <td>No</td>\n",
       "      <td>No</td>\n",
       "      <td>No</td>\n",
       "      <td>Month-to-month</td>\n",
       "      <td>Yes</td>\n",
       "      <td>Mailed check</td>\n",
       "      <td>53.85</td>\n",
       "      <td>108.15</td>\n",
       "      <td>Yes</td>\n",
       "    </tr>\n",
       "    <tr>\n",
       "      <th>3</th>\n",
       "      <td>7795-CFOCW</td>\n",
       "      <td>Male</td>\n",
       "      <td>0</td>\n",
       "      <td>No</td>\n",
       "      <td>No</td>\n",
       "      <td>45</td>\n",
       "      <td>No</td>\n",
       "      <td>No phone service</td>\n",
       "      <td>DSL</td>\n",
       "      <td>Yes</td>\n",
       "      <td>...</td>\n",
       "      <td>Yes</td>\n",
       "      <td>Yes</td>\n",
       "      <td>No</td>\n",
       "      <td>No</td>\n",
       "      <td>One year</td>\n",
       "      <td>No</td>\n",
       "      <td>Bank transfer (automatic)</td>\n",
       "      <td>42.30</td>\n",
       "      <td>1840.75</td>\n",
       "      <td>No</td>\n",
       "    </tr>\n",
       "    <tr>\n",
       "      <th>4</th>\n",
       "      <td>9237-HQITU</td>\n",
       "      <td>Female</td>\n",
       "      <td>0</td>\n",
       "      <td>No</td>\n",
       "      <td>No</td>\n",
       "      <td>2</td>\n",
       "      <td>Yes</td>\n",
       "      <td>No</td>\n",
       "      <td>Fiber optic</td>\n",
       "      <td>No</td>\n",
       "      <td>...</td>\n",
       "      <td>No</td>\n",
       "      <td>No</td>\n",
       "      <td>No</td>\n",
       "      <td>No</td>\n",
       "      <td>Month-to-month</td>\n",
       "      <td>Yes</td>\n",
       "      <td>Electronic check</td>\n",
       "      <td>70.70</td>\n",
       "      <td>151.65</td>\n",
       "      <td>Yes</td>\n",
       "    </tr>\n",
       "  </tbody>\n",
       "</table>\n",
       "<p>5 rows × 21 columns</p>\n",
       "</div>"
      ],
      "text/plain": [
       "   customerID  gender  SeniorCitizen Partner Dependents  tenure PhoneService  \\\n",
       "0  7590-VHVEG  Female              0     Yes         No       1           No   \n",
       "1  5575-GNVDE    Male              0      No         No      34          Yes   \n",
       "2  3668-QPYBK    Male              0      No         No       2          Yes   \n",
       "3  7795-CFOCW    Male              0      No         No      45           No   \n",
       "4  9237-HQITU  Female              0      No         No       2          Yes   \n",
       "\n",
       "      MultipleLines InternetService OnlineSecurity  ... DeviceProtection  \\\n",
       "0  No phone service             DSL             No  ...               No   \n",
       "1                No             DSL            Yes  ...              Yes   \n",
       "2                No             DSL            Yes  ...               No   \n",
       "3  No phone service             DSL            Yes  ...              Yes   \n",
       "4                No     Fiber optic             No  ...               No   \n",
       "\n",
       "  TechSupport StreamingTV StreamingMovies        Contract PaperlessBilling  \\\n",
       "0          No          No              No  Month-to-month              Yes   \n",
       "1          No          No              No        One year               No   \n",
       "2          No          No              No  Month-to-month              Yes   \n",
       "3         Yes          No              No        One year               No   \n",
       "4          No          No              No  Month-to-month              Yes   \n",
       "\n",
       "               PaymentMethod MonthlyCharges  TotalCharges Churn  \n",
       "0           Electronic check          29.85         29.85    No  \n",
       "1               Mailed check          56.95        1889.5    No  \n",
       "2               Mailed check          53.85        108.15   Yes  \n",
       "3  Bank transfer (automatic)          42.30       1840.75    No  \n",
       "4           Electronic check          70.70        151.65   Yes  \n",
       "\n",
       "[5 rows x 21 columns]"
      ]
     },
     "execution_count": 10,
     "metadata": {},
     "output_type": "execute_result"
    }
   ],
   "source": [
    "data.head()"
   ]
  },
  {
   "cell_type": "code",
   "execution_count": 11,
   "id": "45d354d9",
   "metadata": {},
   "outputs": [
    {
     "data": {
      "text/plain": [
       "customerID          0\n",
       "gender              0\n",
       "SeniorCitizen       0\n",
       "Partner             0\n",
       "Dependents          0\n",
       "tenure              0\n",
       "PhoneService        0\n",
       "MultipleLines       0\n",
       "InternetService     0\n",
       "OnlineSecurity      0\n",
       "OnlineBackup        0\n",
       "DeviceProtection    0\n",
       "TechSupport         0\n",
       "StreamingTV         0\n",
       "StreamingMovies     0\n",
       "Contract            0\n",
       "PaperlessBilling    0\n",
       "PaymentMethod       0\n",
       "MonthlyCharges      0\n",
       "TotalCharges        0\n",
       "Churn               0\n",
       "dtype: int64"
      ]
     },
     "execution_count": 11,
     "metadata": {},
     "output_type": "execute_result"
    }
   ],
   "source": [
    "data.isna().sum()"
   ]
  },
  {
   "cell_type": "code",
   "execution_count": 12,
   "id": "fbc9ac33",
   "metadata": {},
   "outputs": [
    {
     "name": "stdout",
     "output_type": "stream",
     "text": [
      "<class 'pandas.core.frame.DataFrame'>\n",
      "RangeIndex: 7043 entries, 0 to 7042\n",
      "Data columns (total 21 columns):\n",
      " #   Column            Non-Null Count  Dtype  \n",
      "---  ------            --------------  -----  \n",
      " 0   customerID        7043 non-null   object \n",
      " 1   gender            7043 non-null   object \n",
      " 2   SeniorCitizen     7043 non-null   int64  \n",
      " 3   Partner           7043 non-null   object \n",
      " 4   Dependents        7043 non-null   object \n",
      " 5   tenure            7043 non-null   int64  \n",
      " 6   PhoneService      7043 non-null   object \n",
      " 7   MultipleLines     7043 non-null   object \n",
      " 8   InternetService   7043 non-null   object \n",
      " 9   OnlineSecurity    7043 non-null   object \n",
      " 10  OnlineBackup      7043 non-null   object \n",
      " 11  DeviceProtection  7043 non-null   object \n",
      " 12  TechSupport       7043 non-null   object \n",
      " 13  StreamingTV       7043 non-null   object \n",
      " 14  StreamingMovies   7043 non-null   object \n",
      " 15  Contract          7043 non-null   object \n",
      " 16  PaperlessBilling  7043 non-null   object \n",
      " 17  PaymentMethod     7043 non-null   object \n",
      " 18  MonthlyCharges    7043 non-null   float64\n",
      " 19  TotalCharges      7043 non-null   object \n",
      " 20  Churn             7043 non-null   object \n",
      "dtypes: float64(1), int64(2), object(18)\n",
      "memory usage: 1.1+ MB\n"
     ]
    }
   ],
   "source": [
    "data.info()"
   ]
  },
  {
   "cell_type": "code",
   "execution_count": 13,
   "id": "381d5fa7",
   "metadata": {},
   "outputs": [
    {
     "data": {
      "text/plain": [
       "0"
      ]
     },
     "execution_count": 13,
     "metadata": {},
     "output_type": "execute_result"
    }
   ],
   "source": [
    "data.duplicated().sum()"
   ]
  },
  {
   "cell_type": "markdown",
   "id": "fd29435a",
   "metadata": {},
   "source": [
    "# Extract the target variable\n",
    "predict variable Churn using a logistic regression on variables tenure, SeniorCitizen,MonthlyCharges."
   ]
  },
  {
   "cell_type": "code",
   "execution_count": null,
   "id": "a0c2321b",
   "metadata": {},
   "outputs": [],
   "source": [
    "# get to numericals"
   ]
  },
  {
   "cell_type": "code",
   "execution_count": 16,
   "id": "00b74766",
   "metadata": {},
   "outputs": [
    {
     "data": {
      "text/plain": [
       "0    0\n",
       "1    0\n",
       "2    1\n",
       "3    0\n",
       "4    1\n",
       "Name: Churn, dtype: int32"
      ]
     },
     "execution_count": 16,
     "metadata": {},
     "output_type": "execute_result"
    }
   ],
   "source": [
    "y = (data.Churn == 'Yes').astype(int)\n",
    "y.head(5)"
   ]
  },
  {
   "cell_type": "code",
   "execution_count": 17,
   "id": "3cb99b4c",
   "metadata": {},
   "outputs": [
    {
     "data": {
      "text/plain": [
       "0    5174\n",
       "1    1869\n",
       "Name: Churn, dtype: int64"
      ]
     },
     "execution_count": 17,
     "metadata": {},
     "output_type": "execute_result"
    }
   ],
   "source": [
    "y.value_counts()"
   ]
  },
  {
   "cell_type": "markdown",
   "id": "b171f11b",
   "metadata": {},
   "source": [
    "# #Extract the independent variables and scale them"
   ]
  },
  {
   "cell_type": "code",
   "execution_count": 19,
   "id": "9f653f99",
   "metadata": {},
   "outputs": [
    {
     "name": "stdout",
     "output_type": "stream",
     "text": [
      "<class 'pandas.core.frame.DataFrame'>\n",
      "RangeIndex: 7043 entries, 0 to 7042\n",
      "Data columns (total 3 columns):\n",
      " #   Column          Non-Null Count  Dtype  \n",
      "---  ------          --------------  -----  \n",
      " 0   tenure          7043 non-null   int64  \n",
      " 1   SeniorCitizen   7043 non-null   int64  \n",
      " 2   MonthlyCharges  7043 non-null   float64\n",
      "dtypes: float64(1), int64(2)\n",
      "memory usage: 165.2 KB\n"
     ]
    }
   ],
   "source": [
    "X = data[[\"tenure\", \"SeniorCitizen\", \"MonthlyCharges\"]]\n",
    "X.info()"
   ]
  },
  {
   "cell_type": "code",
   "execution_count": 20,
   "id": "18c9e628",
   "metadata": {},
   "outputs": [
    {
     "name": "stdout",
     "output_type": "stream",
     "text": [
      "(7043, 3)\n"
     ]
    }
   ],
   "source": [
    "# rescaling using Standard Scaler\n",
    "from sklearn.preprocessing import StandardScaler\n",
    "transformer = StandardScaler().fit(X)\n",
    "X_standardized = transformer.transform(X)\n",
    "print(X_standardized.shape)"
   ]
  },
  {
   "cell_type": "markdown",
   "id": "9c8eafb0",
   "metadata": {},
   "source": [
    "# Building the logistic regression model, with imbalanced target"
   ]
  },
  {
   "cell_type": "code",
   "execution_count": 22,
   "id": "0a50ff68",
   "metadata": {},
   "outputs": [],
   "source": [
    "from sklearn.linear_model import LogisticRegression\n",
    "from sklearn.model_selection import train_test_split\n",
    "from sklearn.metrics import classification_report, confusion_matrix, accuracy_score"
   ]
  },
  {
   "cell_type": "code",
   "execution_count": 23,
   "id": "c6bcd04c",
   "metadata": {},
   "outputs": [],
   "source": [
    "X_train, X_test, y_train, y_test = train_test_split(X, y, test_size=0.4, random_state=40)"
   ]
  },
  {
   "cell_type": "code",
   "execution_count": 24,
   "id": "22d9d024",
   "metadata": {},
   "outputs": [],
   "source": [
    "clf = LogisticRegression(random_state=0, solver='lbfgs',max_iter=400,multi_class='ovr').fit(X_train, y_train)"
   ]
  },
  {
   "cell_type": "code",
   "execution_count": 25,
   "id": "c1537793",
   "metadata": {},
   "outputs": [],
   "source": [
    "predictions = clf.predict(X_test)"
   ]
  },
  {
   "cell_type": "code",
   "execution_count": 26,
   "id": "a914933b",
   "metadata": {},
   "outputs": [
    {
     "data": {
      "text/plain": [
       "0.7888573456352023"
      ]
     },
     "execution_count": 26,
     "metadata": {},
     "output_type": "execute_result"
    }
   ],
   "source": [
    "accuracy_score(y_test, predictions)"
   ]
  },
  {
   "cell_type": "code",
   "execution_count": 27,
   "id": "972c4805",
   "metadata": {},
   "outputs": [
    {
     "data": {
      "image/png": "[encoded data removed]",
      "text/plain": [
       "<Figure size 432x288 with 2 Axes>"
      ]
     },
     "metadata": {
      "needs_background": "light"
     },
     "output_type": "display_data"
    }
   ],
   "source": [
    "from sklearn.metrics import confusion_matrix \n",
    "from sklearn.metrics import plot_confusion_matrix\n",
    "\n",
    "cf_matrix = confusion_matrix(y_test,predictions)\n",
    "sns.heatmap(cf_matrix/np.sum(cf_matrix), annot=True, \n",
    "            fmt='.2%', cmap='Blues');"
   ]
  },
  {
   "cell_type": "code",
   "execution_count": 28,
   "id": "f29ddd21",
   "metadata": {},
   "outputs": [
    {
     "data": {
      "image/png": "[encoded data removed]",
      "text/plain": [
       "<Figure size 432x288 with 2 Axes>"
      ]
     },
     "metadata": {
      "needs_background": "light"
     },
     "output_type": "display_data"
    }
   ],
   "source": [
    "group_names = [\"True Neg\",\"False Pos\",'False Neg','True Pos']\n",
    "group_counts = ['{0:0.0f}'.format(value) for value in\n",
    "                cf_matrix.flatten()]\n",
    "group_percentages = ['{0:.2%}'.format(value) for value in\n",
    "                     cf_matrix.flatten()/np.sum(cf_matrix)]\n",
    "labels = [f'{v1}\\n{v2}\\n{v3}' for v1, v2, v3 in\n",
    "          zip(group_names,group_counts,group_percentages)]\n",
    "labels = np.asarray(labels).reshape(2,2)\n",
    "sns.heatmap(cf_matrix, annot=labels, fmt='', cmap='Blues');"
   ]
  },
  {
   "cell_type": "code",
   "execution_count": 29,
   "id": "5d3d64a1",
   "metadata": {},
   "outputs": [
    {
     "data": {
      "text/plain": [
       "array([0.00000000e+00, 0.00000000e+00, 0.00000000e+00, 4.84496124e-04,\n",
       "       4.84496124e-04, 1.45348837e-03, 1.45348837e-03, 1.93798450e-03,\n",
       "       1.93798450e-03, 2.42248062e-03, 2.42248062e-03, 2.90697674e-03,\n",
       "       2.90697674e-03, 3.39147287e-03, 3.39147287e-03, 3.87596899e-03,\n",
       "       4.36046512e-03, 4.36046512e-03, 4.84496124e-03, 4.84496124e-03,\n",
       "       4.84496124e-03, 4.84496124e-03, 4.84496124e-03, 4.84496124e-03,\n",
       "       5.32945736e-03, 5.32945736e-03, 5.81395349e-03, 5.81395349e-03,\n",
       "       6.78294574e-03, 6.78294574e-03, 7.26744186e-03, 7.75193798e-03,\n",
       "       7.75193798e-03, 8.23643411e-03, 8.23643411e-03, 8.72093023e-03,\n",
       "       8.72093023e-03, 9.20542636e-03, 9.20542636e-03, 9.68992248e-03,\n",
       "       9.68992248e-03, 1.01744186e-02, 1.01744186e-02, 1.06589147e-02,\n",
       "       1.06589147e-02, 1.06589147e-02, 1.06589147e-02, 1.11434109e-02,\n",
       "       1.11434109e-02, 1.16279070e-02, 1.16279070e-02, 1.21124031e-02,\n",
       "       1.21124031e-02, 1.25968992e-02, 1.25968992e-02, 1.30813953e-02,\n",
       "       1.30813953e-02, 1.40503876e-02, 1.40503876e-02, 1.45348837e-02,\n",
       "       1.45348837e-02, 1.64728682e-02, 1.64728682e-02, 1.69573643e-02,\n",
       "       1.69573643e-02, 1.84108527e-02, 1.84108527e-02, 1.98643411e-02,\n",
       "       1.98643411e-02, 2.13178295e-02, 2.13178295e-02, 2.18023256e-02,\n",
       "       2.27713178e-02, 2.27713178e-02, 2.32558140e-02, 2.32558140e-02,\n",
       "       2.37403101e-02, 2.37403101e-02, 2.37403101e-02, 2.37403101e-02,\n",
       "       2.42248062e-02, 2.42248062e-02, 2.47093023e-02, 2.47093023e-02,\n",
       "       2.51937984e-02, 2.51937984e-02, 2.56782946e-02, 2.61627907e-02,\n",
       "       2.61627907e-02, 2.66472868e-02, 2.66472868e-02, 2.71317829e-02,\n",
       "       2.71317829e-02, 2.76162791e-02, 2.76162791e-02, 2.90697674e-02,\n",
       "       2.90697674e-02, 2.95542636e-02, 2.95542636e-02, 3.05232558e-02,\n",
       "       3.05232558e-02, 3.10077519e-02, 3.10077519e-02, 3.14922481e-02,\n",
       "       3.14922481e-02, 3.14922481e-02, 3.24612403e-02, 3.29457364e-02,\n",
       "       3.39147287e-02, 3.39147287e-02, 3.43992248e-02, 3.43992248e-02,\n",
       "       3.43992248e-02, 3.53682171e-02, 3.53682171e-02, 3.58527132e-02,\n",
       "       3.58527132e-02, 3.58527132e-02, 3.68217054e-02, 3.68217054e-02,\n",
       "       3.77906977e-02, 3.77906977e-02, 3.87596899e-02, 3.87596899e-02,\n",
       "       4.11821705e-02, 4.11821705e-02, 4.21511628e-02, 4.21511628e-02,\n",
       "       4.31201550e-02, 4.31201550e-02, 4.36046512e-02, 4.36046512e-02,\n",
       "       4.40891473e-02, 4.40891473e-02, 4.45736434e-02, 4.45736434e-02,\n",
       "       4.55426357e-02, 4.55426357e-02, 4.60271318e-02, 4.60271318e-02,\n",
       "       4.69961240e-02, 4.69961240e-02, 4.74806202e-02, 4.74806202e-02,\n",
       "       4.89341085e-02, 4.89341085e-02, 4.99031008e-02, 4.99031008e-02,\n",
       "       4.99031008e-02, 5.03875969e-02, 5.08720930e-02, 5.08720930e-02,\n",
       "       5.08720930e-02, 5.23255814e-02, 5.23255814e-02, 5.28100775e-02,\n",
       "       5.28100775e-02, 5.32945736e-02, 5.32945736e-02, 5.42635659e-02,\n",
       "       5.42635659e-02, 5.47480620e-02, 5.47480620e-02, 5.47480620e-02,\n",
       "       5.47480620e-02, 5.52325581e-02, 5.52325581e-02, 5.62015504e-02,\n",
       "       5.62015504e-02, 5.71705426e-02, 5.71705426e-02, 5.86240310e-02,\n",
       "       5.86240310e-02, 5.91085271e-02, 5.91085271e-02, 6.15310078e-02,\n",
       "       6.15310078e-02, 6.20155039e-02, 6.20155039e-02, 6.25000000e-02,\n",
       "       6.25000000e-02, 6.29844961e-02, 6.29844961e-02, 6.34689922e-02,\n",
       "       6.34689922e-02, 6.49224806e-02, 6.49224806e-02, 6.54069767e-02,\n",
       "       6.54069767e-02, 6.58914729e-02, 6.58914729e-02, 6.63759690e-02,\n",
       "       6.63759690e-02, 6.68604651e-02, 6.68604651e-02, 6.73449612e-02,\n",
       "       6.73449612e-02, 6.78294574e-02, 6.78294574e-02, 6.87984496e-02,\n",
       "       6.87984496e-02, 6.97674419e-02, 6.97674419e-02, 7.02519380e-02,\n",
       "       7.02519380e-02, 7.12209302e-02, 7.12209302e-02, 7.31589147e-02,\n",
       "       7.31589147e-02, 7.36434109e-02, 7.36434109e-02, 7.41279070e-02,\n",
       "       7.41279070e-02, 7.50968992e-02, 7.50968992e-02, 7.55813953e-02,\n",
       "       7.55813953e-02, 7.60658915e-02, 7.60658915e-02, 7.65503876e-02,\n",
       "       7.65503876e-02, 7.75193798e-02, 7.84883721e-02, 7.84883721e-02,\n",
       "       7.94573643e-02, 7.94573643e-02, 8.04263566e-02, 8.04263566e-02,\n",
       "       8.09108527e-02, 8.09108527e-02, 8.13953488e-02, 8.13953488e-02,\n",
       "       8.23643411e-02, 8.23643411e-02, 8.38178295e-02, 8.38178295e-02,\n",
       "       8.43023256e-02, 8.43023256e-02, 8.62403101e-02, 8.62403101e-02,\n",
       "       8.81782946e-02, 8.81782946e-02, 9.06007752e-02, 9.06007752e-02,\n",
       "       9.10852713e-02, 9.10852713e-02, 9.15697674e-02, 9.15697674e-02,\n",
       "       9.20542636e-02, 9.20542636e-02, 9.25387597e-02, 9.25387597e-02,\n",
       "       9.59302326e-02, 9.59302326e-02, 9.93217054e-02, 9.93217054e-02,\n",
       "       9.98062016e-02, 9.98062016e-02, 1.00775194e-01, 1.00775194e-01,\n",
       "       1.02228682e-01, 1.02713178e-01, 1.03197674e-01, 1.03197674e-01,\n",
       "       1.06104651e-01, 1.06104651e-01, 1.07073643e-01, 1.07073643e-01,\n",
       "       1.08527132e-01, 1.08527132e-01, 1.09011628e-01, 1.09980620e-01,\n",
       "       1.11434109e-01, 1.11434109e-01, 1.12403101e-01, 1.12403101e-01,\n",
       "       1.14825581e-01, 1.14825581e-01, 1.15310078e-01, 1.15310078e-01,\n",
       "       1.20155039e-01, 1.20155039e-01, 1.21608527e-01, 1.21608527e-01,\n",
       "       1.24031008e-01, 1.24031008e-01, 1.24515504e-01, 1.24515504e-01,\n",
       "       1.29844961e-01, 1.30329457e-01, 1.30329457e-01, 1.30813953e-01,\n",
       "       1.30813953e-01, 1.31298450e-01, 1.31298450e-01, 1.32267442e-01,\n",
       "       1.32751938e-01, 1.32751938e-01, 1.33720930e-01, 1.33720930e-01,\n",
       "       1.34205426e-01, 1.34205426e-01, 1.34205426e-01, 1.34205426e-01,\n",
       "       1.36143411e-01, 1.36143411e-01, 1.36627907e-01, 1.36627907e-01,\n",
       "       1.37112403e-01, 1.37596899e-01, 1.37596899e-01, 1.38081395e-01,\n",
       "       1.38081395e-01, 1.40019380e-01, 1.40019380e-01, 1.41472868e-01,\n",
       "       1.41472868e-01, 1.41957364e-01, 1.41957364e-01, 1.45348837e-01,\n",
       "       1.45348837e-01, 1.46802326e-01, 1.46802326e-01, 1.48255814e-01,\n",
       "       1.48255814e-01, 1.48740310e-01, 1.48740310e-01, 1.49709302e-01,\n",
       "       1.49709302e-01, 1.50193798e-01, 1.50193798e-01, 1.51162791e-01,\n",
       "       1.51162791e-01, 1.51647287e-01, 1.51647287e-01, 1.52131783e-01,\n",
       "       1.52131783e-01, 1.53100775e-01, 1.53100775e-01, 1.54069767e-01,\n",
       "       1.54069767e-01, 1.54554264e-01, 1.54554264e-01, 1.57461240e-01,\n",
       "       1.57461240e-01, 1.58430233e-01, 1.58430233e-01, 1.59399225e-01,\n",
       "       1.59399225e-01, 1.59399225e-01, 1.59399225e-01, 1.59399225e-01,\n",
       "       1.59883721e-01, 1.59883721e-01, 1.60368217e-01, 1.60368217e-01,\n",
       "       1.60852713e-01, 1.60852713e-01, 1.62790698e-01, 1.62790698e-01,\n",
       "       1.63275194e-01, 1.63275194e-01, 1.66666667e-01, 1.66666667e-01,\n",
       "       1.67151163e-01, 1.67151163e-01, 1.67635659e-01, 1.67635659e-01,\n",
       "       1.68604651e-01, 1.68604651e-01, 1.69089147e-01, 1.69089147e-01,\n",
       "       1.71027132e-01, 1.71027132e-01, 1.71996124e-01, 1.72480620e-01,\n",
       "       1.75387597e-01, 1.75387597e-01, 1.76356589e-01, 1.76356589e-01,\n",
       "       1.77810078e-01, 1.77810078e-01, 1.79748062e-01, 1.79748062e-01,\n",
       "       1.80717054e-01, 1.80717054e-01, 1.81201550e-01, 1.81201550e-01,\n",
       "       1.83624031e-01, 1.83624031e-01, 1.85077519e-01, 1.85077519e-01,\n",
       "       1.86531008e-01, 1.86531008e-01, 1.87500000e-01, 1.87500000e-01,\n",
       "       1.88468992e-01, 1.88468992e-01, 1.89437984e-01, 1.89437984e-01,\n",
       "       1.90891473e-01, 1.90891473e-01, 1.93313953e-01, 1.93313953e-01,\n",
       "       1.93798450e-01, 1.93798450e-01, 1.97674419e-01, 1.97674419e-01,\n",
       "       1.99612403e-01, 1.99612403e-01, 2.00096899e-01, 2.00096899e-01,\n",
       "       2.00581395e-01, 2.00581395e-01, 2.04941860e-01, 2.04941860e-01,\n",
       "       2.05426357e-01, 2.05426357e-01, 2.06395349e-01, 2.06395349e-01,\n",
       "       2.13178295e-01, 2.13178295e-01, 2.14631783e-01, 2.14631783e-01,\n",
       "       2.17054264e-01, 2.17054264e-01, 2.18023256e-01, 2.18023256e-01,\n",
       "       2.18507752e-01, 2.18507752e-01, 2.19961240e-01, 2.20445736e-01,\n",
       "       2.20930233e-01, 2.20930233e-01, 2.21899225e-01, 2.21899225e-01,\n",
       "       2.22383721e-01, 2.22383721e-01, 2.27228682e-01, 2.27228682e-01,\n",
       "       2.27713178e-01, 2.27713178e-01, 2.30620155e-01, 2.30620155e-01,\n",
       "       2.33527132e-01, 2.33527132e-01, 2.35949612e-01, 2.35949612e-01,\n",
       "       2.37403101e-01, 2.37403101e-01, 2.38856589e-01, 2.38856589e-01,\n",
       "       2.39825581e-01, 2.39825581e-01, 2.43701550e-01, 2.43701550e-01,\n",
       "       2.44186047e-01, 2.44186047e-01, 2.48546512e-01, 2.48546512e-01,\n",
       "       2.49515504e-01, 2.49515504e-01, 2.50000000e-01, 2.50000000e-01,\n",
       "       2.50484496e-01, 2.50484496e-01, 2.50968992e-01, 2.50968992e-01,\n",
       "       2.53391473e-01, 2.53391473e-01, 2.54844961e-01, 2.54844961e-01,\n",
       "       2.56298450e-01, 2.56298450e-01, 2.56782946e-01, 2.56782946e-01,\n",
       "       2.61143411e-01, 2.61143411e-01, 2.62112403e-01, 2.62112403e-01,\n",
       "       2.65503876e-01, 2.65503876e-01, 2.71802326e-01, 2.71802326e-01,\n",
       "       2.72286822e-01, 2.72286822e-01, 2.72771318e-01, 2.72771318e-01,\n",
       "       2.74224806e-01, 2.74224806e-01, 2.75678295e-01, 2.75678295e-01,\n",
       "       2.79069767e-01, 2.79069767e-01, 2.81007752e-01, 2.81007752e-01,\n",
       "       2.82461240e-01, 2.82945736e-01, 2.82945736e-01, 2.84399225e-01,\n",
       "       2.84399225e-01, 2.85852713e-01, 2.85852713e-01, 2.86337209e-01,\n",
       "       2.86337209e-01, 2.87790698e-01, 2.88759690e-01, 2.88759690e-01,\n",
       "       2.89728682e-01, 2.89728682e-01, 2.91182171e-01, 2.91182171e-01,\n",
       "       2.92151163e-01, 2.92151163e-01, 2.93604651e-01, 2.93604651e-01,\n",
       "       2.94089147e-01, 2.94089147e-01, 2.94573643e-01, 2.94573643e-01,\n",
       "       2.97965116e-01, 2.97965116e-01, 2.98449612e-01, 2.98449612e-01,\n",
       "       2.99903101e-01, 2.99903101e-01, 3.00387597e-01, 3.00387597e-01,\n",
       "       3.01841085e-01, 3.01841085e-01, 3.03294574e-01, 3.03779070e-01,\n",
       "       3.05232558e-01, 3.06201550e-01, 3.07655039e-01, 3.07655039e-01,\n",
       "       3.08624031e-01, 3.09593023e-01, 3.10077519e-01, 3.11046512e-01,\n",
       "       3.11046512e-01, 3.12015504e-01, 3.12500000e-01, 3.13468992e-01,\n",
       "       3.13953488e-01, 3.14922481e-01, 3.15406977e-01, 3.16375969e-01,\n",
       "       3.17344961e-01, 3.19282946e-01, 3.19282946e-01, 3.20251938e-01,\n",
       "       3.20736434e-01, 3.21705426e-01, 3.22189922e-01, 3.23643411e-01,\n",
       "       3.25096899e-01, 3.25096899e-01, 3.27519380e-01, 3.28003876e-01,\n",
       "       3.28003876e-01, 3.30426357e-01, 3.30910853e-01, 3.30910853e-01,\n",
       "       3.32364341e-01, 3.32364341e-01, 3.32848837e-01, 3.32848837e-01,\n",
       "       3.33333333e-01, 3.33817829e-01, 3.34786822e-01, 3.35271318e-01,\n",
       "       3.35271318e-01, 3.36724806e-01, 3.36724806e-01, 3.40116279e-01,\n",
       "       3.40116279e-01, 3.41085271e-01, 3.41085271e-01, 3.43992248e-01,\n",
       "       3.44961240e-01, 3.47383721e-01, 3.48352713e-01, 3.48352713e-01,\n",
       "       3.50290698e-01, 3.50290698e-01, 3.52228682e-01, 3.52228682e-01,\n",
       "       3.56589147e-01, 3.56589147e-01, 3.58527132e-01, 3.58527132e-01,\n",
       "       3.59011628e-01, 3.59011628e-01, 3.64341085e-01, 3.64341085e-01,\n",
       "       3.66279070e-01, 3.66279070e-01, 3.67732558e-01, 3.67732558e-01,\n",
       "       3.68217054e-01, 3.68217054e-01, 3.70155039e-01, 3.70155039e-01,\n",
       "       3.71608527e-01, 3.71608527e-01, 3.73546512e-01, 3.73546512e-01,\n",
       "       3.75484496e-01, 3.75484496e-01, 3.84689922e-01, 3.85658915e-01,\n",
       "       3.87112403e-01, 3.87112403e-01, 3.88565891e-01, 3.88565891e-01,\n",
       "       3.92926357e-01, 3.92926357e-01, 3.94379845e-01, 3.95348837e-01,\n",
       "       3.96317829e-01, 3.96317829e-01, 3.97771318e-01, 3.97771318e-01,\n",
       "       3.98255814e-01, 3.98255814e-01, 4.04554264e-01, 4.04554264e-01,\n",
       "       4.05038760e-01, 4.06007752e-01, 4.06976744e-01, 4.06976744e-01,\n",
       "       4.07461240e-01, 4.07461240e-01, 4.07945736e-01, 4.07945736e-01,\n",
       "       4.08914729e-01, 4.10368217e-01, 4.10368217e-01, 4.16182171e-01,\n",
       "       4.17635659e-01, 4.19089147e-01, 4.19089147e-01, 4.20542636e-01,\n",
       "       4.20542636e-01, 4.21996124e-01, 4.22480620e-01, 4.22965116e-01,\n",
       "       4.22965116e-01, 4.24903101e-01, 4.24903101e-01, 4.30232558e-01,\n",
       "       4.30232558e-01, 4.33624031e-01, 4.33624031e-01, 4.39437984e-01,\n",
       "       4.39437984e-01, 4.39922481e-01, 4.39922481e-01, 4.40406977e-01,\n",
       "       4.40406977e-01, 4.44282946e-01, 4.45251938e-01, 4.53972868e-01,\n",
       "       4.53972868e-01, 4.57364341e-01, 4.57364341e-01, 4.58333333e-01,\n",
       "       4.59302326e-01, 4.59786822e-01, 4.59786822e-01, 4.60755814e-01,\n",
       "       4.60755814e-01, 4.61724806e-01, 4.61724806e-01, 4.62209302e-01,\n",
       "       4.62209302e-01, 4.65600775e-01, 4.65600775e-01, 4.68507752e-01,\n",
       "       4.68507752e-01, 4.76744186e-01, 4.77713178e-01, 4.84011628e-01,\n",
       "       4.84011628e-01, 4.91763566e-01, 4.91763566e-01, 4.92732558e-01,\n",
       "       4.92732558e-01, 4.94186047e-01, 4.94186047e-01, 4.96608527e-01,\n",
       "       4.96608527e-01, 4.97093023e-01, 4.98062016e-01, 4.99515504e-01,\n",
       "       4.99515504e-01, 5.03391473e-01, 5.03391473e-01, 5.04844961e-01,\n",
       "       5.04844961e-01, 5.08720930e-01, 5.08720930e-01, 5.16957364e-01,\n",
       "       5.16957364e-01, 5.18895349e-01, 5.18895349e-01, 5.19379845e-01,\n",
       "       5.19379845e-01, 5.20833333e-01, 5.21317829e-01, 5.23740310e-01,\n",
       "       5.23740310e-01, 5.24224806e-01, 5.24224806e-01, 5.26162791e-01,\n",
       "       5.27131783e-01, 5.28100775e-01, 5.28100775e-01, 5.32945736e-01,\n",
       "       5.32945736e-01, 5.34399225e-01, 5.34399225e-01, 5.35852713e-01,\n",
       "       5.36821705e-01, 5.38275194e-01, 5.38275194e-01, 5.39244186e-01,\n",
       "       5.39244186e-01, 5.54748062e-01, 5.54748062e-01, 5.59108527e-01,\n",
       "       5.59108527e-01, 5.61531008e-01, 5.62500000e-01, 5.64437984e-01,\n",
       "       5.64437984e-01, 5.64922481e-01, 5.64922481e-01, 5.68798450e-01,\n",
       "       5.68798450e-01, 5.73158915e-01, 5.73158915e-01, 5.74127907e-01,\n",
       "       5.74612403e-01, 5.74612403e-01, 5.76550388e-01, 5.76550388e-01,\n",
       "       5.77519380e-01, 5.77519380e-01, 5.84302326e-01, 5.85271318e-01,\n",
       "       5.89147287e-01, 5.89147287e-01, 5.92054264e-01, 5.92054264e-01,\n",
       "       5.93992248e-01, 5.93992248e-01, 5.98837209e-01, 5.98837209e-01,\n",
       "       6.01744186e-01, 6.01744186e-01, 6.06589147e-01, 6.06589147e-01,\n",
       "       6.19186047e-01, 6.19186047e-01, 6.25000000e-01, 6.25000000e-01,\n",
       "       6.27906977e-01, 6.27906977e-01, 6.28875969e-01, 6.30329457e-01,\n",
       "       6.30329457e-01, 6.31298450e-01, 6.32267442e-01, 6.40019380e-01,\n",
       "       6.40503876e-01, 6.48255814e-01, 6.48255814e-01, 6.50678295e-01,\n",
       "       6.51647287e-01, 6.56007752e-01, 6.56976744e-01, 6.58430233e-01,\n",
       "       6.60368217e-01, 6.62306202e-01, 6.62306202e-01, 6.69573643e-01,\n",
       "       6.69573643e-01, 6.74418605e-01, 6.74418605e-01, 6.74903101e-01,\n",
       "       6.74903101e-01, 6.76356589e-01, 6.77325581e-01, 6.82170543e-01,\n",
       "       6.82170543e-01, 6.82655039e-01, 6.82655039e-01, 6.84593023e-01,\n",
       "       6.84593023e-01, 6.94282946e-01, 6.95251938e-01, 7.02034884e-01,\n",
       "       7.03003876e-01, 7.09302326e-01, 7.09302326e-01, 7.09786822e-01,\n",
       "       7.09786822e-01, 7.10271318e-01, 7.10271318e-01, 7.12693798e-01,\n",
       "       7.12693798e-01, 7.17538760e-01, 7.17538760e-01, 7.18507752e-01,\n",
       "       7.18507752e-01, 7.20930233e-01, 7.20930233e-01, 7.21414729e-01,\n",
       "       7.21414729e-01, 7.25290698e-01, 7.26259690e-01, 7.32558140e-01,\n",
       "       7.32558140e-01, 7.42248062e-01, 7.42248062e-01, 7.51937984e-01,\n",
       "       7.51937984e-01, 7.54360465e-01, 7.55329457e-01, 7.58236434e-01,\n",
       "       7.58236434e-01, 7.58720930e-01, 7.59689922e-01, 7.60174419e-01,\n",
       "       7.61143411e-01, 7.62112403e-01, 7.63081395e-01, 7.63081395e-01,\n",
       "       7.69379845e-01, 7.69379845e-01, 7.70833333e-01, 7.70833333e-01,\n",
       "       7.78585271e-01, 7.78585271e-01, 7.94573643e-01, 7.94573643e-01,\n",
       "       8.03779070e-01, 8.03779070e-01, 8.04263566e-01, 8.04263566e-01,\n",
       "       8.05232558e-01, 8.05232558e-01, 8.09108527e-01, 8.09108527e-01,\n",
       "       8.22674419e-01, 8.22674419e-01, 8.27519380e-01, 8.27519380e-01,\n",
       "       8.36240310e-01, 8.38178295e-01, 8.45445736e-01, 8.46414729e-01,\n",
       "       8.60465116e-01, 8.60465116e-01, 8.63856589e-01, 8.63856589e-01,\n",
       "       9.00193798e-01, 9.00193798e-01, 9.09883721e-01, 9.10852713e-01,\n",
       "       9.11821705e-01, 9.11821705e-01, 9.13759690e-01, 9.14728682e-01,\n",
       "       9.20542636e-01, 9.21511628e-01, 9.21996124e-01, 9.22965116e-01,\n",
       "       9.30717054e-01, 9.31686047e-01, 9.39922481e-01, 9.39922481e-01,\n",
       "       9.42344961e-01, 9.42344961e-01, 9.47674419e-01, 9.47674419e-01,\n",
       "       9.57364341e-01, 9.58333333e-01, 9.67538760e-01, 9.67538760e-01,\n",
       "       9.84980620e-01, 9.85949612e-01, 9.90310078e-01, 9.91279070e-01,\n",
       "       1.00000000e+00])"
      ]
     },
     "execution_count": 29,
     "metadata": {},
     "output_type": "execute_result"
    }
   ],
   "source": [
    "from sklearn.metrics import roc_curve\n",
    "\n",
    "# Make predictions with probabilities\n",
    "y_probs = clf.predict_proba(X_test)\n",
    "\n",
    "# Keep the probabilites of the positive class only\n",
    "y_probs = y_probs[:, 1]\n",
    "\n",
    "# Calculate fpr, tpr and thresholds\n",
    "fpr, tpr, thresholds = roc_curve(y_test, y_probs)\n",
    "\n",
    "# Check the false positive rate\n",
    "fpr"
   ]
  },
  {
   "cell_type": "code",
   "execution_count": 30,
   "id": "da0e9b61",
   "metadata": {},
   "outputs": [
    {
     "data": {
      "image/png": "[encoded data removed]",
      "text/plain": [
       "<Figure size 432x288 with 1 Axes>"
      ]
     },
     "metadata": {
      "needs_background": "light"
     },
     "output_type": "display_data"
    }
   ],
   "source": [
    "import matplotlib.pyplot as plt\n",
    "\n",
    "def plot_roc_curve(fpr, tpr):\n",
    "    \"\"\"\n",
    "    Plots a ROC curve given the false positve rate (fpr) and \n",
    "    true postive rate (tpr) of a classifier.\n",
    "    \"\"\"\n",
    "    # Plot ROC curve\n",
    "    plt.plot(fpr, tpr, color='orange', label='ROC')\n",
    "    # Plot line with no predictive power (baseline)\n",
    "    plt.plot([0, 1], [0, 1], color='darkblue', linestyle='--', label='Guessing')\n",
    "    # Customize the plot\n",
    "    plt.xlabel('False Positive Rate')\n",
    "    plt.ylabel('True Positive Rate')\n",
    "    plt.title('Receiver Operating Characteristic (ROC) Curve')\n",
    "    plt.legend()\n",
    "    plt.show()\n",
    "    \n",
    "plot_roc_curve(fpr, tpr)"
   ]
  },
  {
   "cell_type": "code",
   "execution_count": 31,
   "id": "17003787",
   "metadata": {},
   "outputs": [
    {
     "name": "stdout",
     "output_type": "stream",
     "text": [
      "              precision    recall  f1-score   support\n",
      "\n",
      "           0       0.82      0.91      0.86      2064\n",
      "           1       0.65      0.46      0.54       754\n",
      "\n",
      "    accuracy                           0.79      2818\n",
      "   macro avg       0.74      0.68      0.70      2818\n",
      "weighted avg       0.78      0.79      0.78      2818\n",
      "\n"
     ]
    }
   ],
   "source": [
    "print(classification_report(y_test, predictions))"
   ]
  },
  {
   "cell_type": "code",
   "execution_count": null,
   "id": "b5fc3b46",
   "metadata": {},
   "outputs": [],
   "source": []
  }
 ],
 "metadata": {
  "kernelspec": {
   "display_name": "Python 3 (ipykernel)",
   "language": "python",
   "name": "python3"
  },
  "language_info": {
   "codemirror_mode": {
    "name": "ipython",
    "version": 3
   },
   "file_extension": ".py",
   "mimetype": "text/x-python",
   "name": "python",
   "nbconvert_exporter": "python",
   "pygments_lexer": "ipython3",
   "version": "3.9.7"
  }
 },
 "nbformat": 4,
 "nbformat_minor": 5
}
